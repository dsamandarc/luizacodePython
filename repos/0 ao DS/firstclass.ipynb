{
 "cells": [
  {
   "cell_type": "markdown",
   "id": "1821ebfe",
   "metadata": {},
   "source": [
    "01)\tBusiness problem\n",
    "\n",
    "We have a company called House Rocket that has a platform where people can sell or buy properties.\n",
    "The House Rocket CEO wants to maximize profit by closing good deals. The idea is to buy properties that are cheap to sell at a bigger price later. The problem today is to know with property compensates to buy and reform to sell better later. \n",
    "Today the company uses the internet and other sources (ask people, research the market, etc.) to find good business. What does the company want from the DC? That the DC analyses the dataset that the company has and finds good opportunities in it. \n",
    "What he wants to know:\n",
    "1-\tHow many properties are available to buy?\n",
    "2-\tHow many characteristics do the properties possess? \n",
    "3-\tWhich are those characteristics? (Number of bedrooms, number of garages, m², site, etc.).\n",
    "4-\tWhich is the most expansive property? (The property with the bigger price)\n",
    "5-\tWhich is the property with the bigger number of bedrooms?\n",
    "6-\tWhat is the total of bedrooms in the dataset?\n",
    "7-\tHow many houses have two bathrooms?\n",
    "8-\tWhat is the average price of all houses in the dataset?\n",
    "9-\tWhat is the average price of homes with two bathrooms?\n",
    "10-\tWhat is the minimum price for a 3 bedrooms house?\n",
    "11-\tHow many houses have more than 300 square meters of living room?\n",
    "12-\tHow many houses have more than 2 floors?\n",
    "13-\tHow many houses have a sea view?\n",
    "14-\tOf the houses with a sea view, how many have 3 bedrooms?\n",
    "15-\tOf the houses with more than 300 square meters of living room, how many have more than 2 bathrooms?\n",
    "\n",
    "02)\tPlanning the solution \n",
    "\n",
    "2.1 Planning the final product\n",
    "- The output: Text with the answers.\n",
    "- How I will construct the output: Questions | Answers\n",
    "\n",
    "2.2 Planning the process\n",
    "- Where is the information? (Excel, Dataset, manual upload, etc.)\n",
    "Link: https://www.kaggle.com/harlfoxem/housesalesprediction\n",
    "\n",
    "- How I would do the data collection? (SQL, Python, Streamlit, etc.)\n",
    "Download the data\n",
    "\n",
    "-How I will find the answer to the questions?\n",
    "->How many properties are available to buy? Count the number of lines in the dataset \n",
    "-> How many characteristics do the properties possess? Count the number of columns in the dataset\n",
    "->Which are those characteristics? (Number of rooms, number of garages, m², site, etc.). Show the name of each column\n",
    "->Which is the most expansive property? (The property with the bigger price) Order the lines by the column price\n",
    "->Which is the property with the bigger number of rooms? Order the lines by the column number of rooms\n",
    "\n",
    "2.3 Planning the tools that will be used\n",
    "-Which tools do I have available? Excel, Python, R\n",
    " -Which tool I will use? Python\n"
   ]
  },
  {
   "cell_type": "code",
   "execution_count": 1,
   "id": "17fec33d",
   "metadata": {},
   "outputs": [],
   "source": [
    "from typing import Any\n",
    "\n",
    "import numpy as np\n",
    "import pandas as pd"
   ]
  },
  {
   "cell_type": "code",
   "execution_count": 2,
   "id": "b0e33094",
   "metadata": {},
   "outputs": [],
   "source": [
    "# Loading the dataset\n",
    "data = pd.read_csv ( 'datasets/kc_house_data.csv')"
   ]
  },
  {
   "cell_type": "code",
   "execution_count": 3,
   "id": "083cc25c",
   "metadata": {},
   "outputs": [
    {
     "data": {
      "text/plain": [
       "21436"
      ]
     },
     "execution_count": 3,
     "metadata": {},
     "output_type": "execute_result"
    }
   ],
   "source": [
    "#1-\tHow many properties are available to buy? - strategy: select the id column and count the number of unique values\n",
    "len ( data ['id'].unique())\n",
    "#other possibility\n",
    "len (data ['id'].drop_duplicates())"
   ]
  },
  {
   "cell_type": "code",
   "execution_count": 4,
   "id": "55a003ab",
   "metadata": {},
   "outputs": [
    {
     "data": {
      "text/plain": [
       "19"
      ]
     },
     "execution_count": 4,
     "metadata": {},
     "output_type": "execute_result"
    }
   ],
   "source": [
    "#2-\tHow many characteristics do the properties possess? - strategy: assumptions 'id' and 'date' are not characteristics\n",
    "len (data.drop( ['id' , 'date'], axis=1 ).columns)"
   ]
  },
  {
   "cell_type": "code",
   "execution_count": 5,
   "id": "380bb513",
   "metadata": {},
   "outputs": [
    {
     "data": {
      "text/plain": [
       "['price',\n",
       " 'bedrooms',\n",
       " 'bathrooms',\n",
       " 'sqft_living',\n",
       " 'sqft_lot',\n",
       " 'floors',\n",
       " 'waterfront',\n",
       " 'view',\n",
       " 'condition',\n",
       " 'grade',\n",
       " 'sqft_above',\n",
       " 'sqft_basement',\n",
       " 'yr_built',\n",
       " 'yr_renovated',\n",
       " 'zipcode',\n",
       " 'lat',\n",
       " 'long',\n",
       " 'sqft_living15',\n",
       " 'sqft_lot15']"
      ]
     },
     "execution_count": 5,
     "metadata": {},
     "output_type": "execute_result"
    }
   ],
   "source": [
    "#3-\tWhich are those characteristics? (Number of bedrooms, number of garages, m², site, etc.) - strategy: assumptions\n",
    "#'id' and 'date' are not characteristics\n",
    "data.drop( ['id' , 'date'], axis=1 ).columns.tolist()"
   ]
  },
  {
   "cell_type": "code",
   "execution_count": 6,
   "id": "e9a8dddb",
   "metadata": {},
   "outputs": [
    {
     "data": {
      "text/plain": [
       "6762700020"
      ]
     },
     "execution_count": 6,
     "metadata": {},
     "output_type": "execute_result"
    }
   ],
   "source": [
    "#4-\t Which is the most expansive property? (The property with the bigger price)\n",
    "data[['id', 'price']].sort_values('price', ascending=False).reset_index(drop=True).loc[0, 'id']"
   ]
  },
  {
   "cell_type": "code",
   "execution_count": 7,
   "id": "d174ebab",
   "metadata": {},
   "outputs": [
    {
     "data": {
      "text/plain": [
       "2402100895"
      ]
     },
     "execution_count": 7,
     "metadata": {},
     "output_type": "execute_result"
    }
   ],
   "source": [
    "#5-\tWhich is the property with the bigger number of bedrooms?\n",
    "data[['id', 'bedrooms']].sort_values('bedrooms', ascending=False).reset_index(drop=True).loc[0, 'id']"
   ]
  },
  {
   "cell_type": "code",
   "execution_count": 8,
   "id": "f18f1f4a",
   "metadata": {},
   "outputs": [
    {
     "data": {
      "text/plain": [
       "72854"
      ]
     },
     "execution_count": 8,
     "metadata": {},
     "output_type": "execute_result"
    }
   ],
   "source": [
    "#6-\tWhat is the total of bedrooms in the dataset?\n",
    "data ['bedrooms'].sum()"
   ]
  },
  {
   "cell_type": "code",
   "execution_count": 9,
   "id": "ea9e7917",
   "metadata": {},
   "outputs": [
    {
     "name": "stdout",
     "output_type": "stream",
     "text": [
      "The number of houses with 2 bathrooms are 1930\n"
     ]
    }
   ],
   "source": [
    "#7-\tHow many houses have two bathrooms? strategy: filter only the 'id' where the column 'bathroom' is equal to 2\n",
    "houses =len ( data.loc[data['bathrooms'] == 2, [ 'id', 'bathrooms']])\n",
    "print ('The number of houses with 2 bathrooms are {}'.format( houses ))"
   ]
  },
  {
   "cell_type": "code",
   "execution_count": 10,
   "id": "5764c164",
   "metadata": {},
   "outputs": [
    {
     "data": {
      "text/plain": [
       "540088.14"
      ]
     },
     "execution_count": 10,
     "metadata": {},
     "output_type": "execute_result"
    }
   ],
   "source": [
    "#8- What is the average price of all houses in the dataset? strategy: check if price is a float and not an object\n",
    "#than take the mean with a round with two decimal places after the point\n",
    "np.round( data['price'].mean(), 2 )"
   ]
  },
  {
   "cell_type": "code",
   "execution_count": 11,
   "id": "34e5ee59",
   "metadata": {},
   "outputs": [
    {
     "data": {
      "text/plain": [
       "457889.72"
      ]
     },
     "execution_count": 11,
     "metadata": {},
     "output_type": "execute_result"
    }
   ],
   "source": [
    "#9-\tWhat is the average price of homes with two bathrooms?\n",
    "np.round( data.loc[data ['bathrooms' ] == 2, 'price'].mean(), 2 )"
   ]
  },
  {
   "cell_type": "code",
   "execution_count": 12,
   "id": "2379da30",
   "metadata": {},
   "outputs": [
    {
     "name": "stdout",
     "output_type": "stream",
     "text": [
      "82000.0\n"
     ]
    },
    {
     "data": {
      "text/html": [
       "<div>\n",
       "<style scoped>\n",
       "    .dataframe tbody tr th:only-of-type {\n",
       "        vertical-align: middle;\n",
       "    }\n",
       "\n",
       "    .dataframe tbody tr th {\n",
       "        vertical-align: top;\n",
       "    }\n",
       "\n",
       "    .dataframe thead th {\n",
       "        text-align: right;\n",
       "    }\n",
       "</style>\n",
       "<table border=\"1\" class=\"dataframe\">\n",
       "  <thead>\n",
       "    <tr style=\"text-align: right;\">\n",
       "      <th></th>\n",
       "      <th>id</th>\n",
       "      <th>price</th>\n",
       "    </tr>\n",
       "  </thead>\n",
       "  <tbody>\n",
       "    <tr>\n",
       "      <th>8274</th>\n",
       "      <td>3883800011</td>\n",
       "      <td>82000.0</td>\n",
       "    </tr>\n",
       "    <tr>\n",
       "      <th>13756</th>\n",
       "      <td>1788900230</td>\n",
       "      <td>86500.0</td>\n",
       "    </tr>\n",
       "    <tr>\n",
       "      <th>5866</th>\n",
       "      <td>9320900420</td>\n",
       "      <td>89000.0</td>\n",
       "    </tr>\n",
       "    <tr>\n",
       "      <th>18939</th>\n",
       "      <td>4239400300</td>\n",
       "      <td>90000.0</td>\n",
       "    </tr>\n",
       "    <tr>\n",
       "      <th>5723</th>\n",
       "      <td>1788800630</td>\n",
       "      <td>96500.0</td>\n",
       "    </tr>\n",
       "  </tbody>\n",
       "</table>\n",
       "</div>"
      ],
      "text/plain": [
       "               id    price\n",
       "8274   3883800011  82000.0\n",
       "13756  1788900230  86500.0\n",
       "5866   9320900420  89000.0\n",
       "18939  4239400300  90000.0\n",
       "5723   1788800630  96500.0"
      ]
     },
     "execution_count": 12,
     "metadata": {},
     "output_type": "execute_result"
    }
   ],
   "source": [
    "#10-What is the minimum price for a 3 bedrooms house?\n",
    "print(data.loc[data['bedrooms'] == 3, 'price'].min())\n",
    "#other possibility\n",
    "data.loc[data['bedrooms'] == 3, ['id', 'price']].sort_values('price', ascending=True).head()"
   ]
  },
  {
   "cell_type": "code",
   "execution_count": 13,
   "id": "4f4dcd45",
   "metadata": {},
   "outputs": [
    {
     "data": {
      "text/plain": [
       "2258"
      ]
     },
     "execution_count": 13,
     "metadata": {},
     "output_type": "execute_result"
    }
   ],
   "source": [
    "#11-How many houses have more than 300 square meters of living room? - strategy: firts covert sqft to square meters and then \n",
    "#calculate the condition\n",
    "data['m2'] = data['sqft_living'] * 0.093\n",
    "len( data.loc[data['m2'] > 300, 'id'])"
   ]
  },
  {
   "cell_type": "code",
   "execution_count": 15,
   "id": "2303ecdd",
   "metadata": {},
   "outputs": [
    {
     "data": {
      "text/plain": [
       "782"
      ]
     },
     "execution_count": 15,
     "metadata": {},
     "output_type": "execute_result"
    }
   ],
   "source": [
    "#12-How many houses have more than 2 floors?\n",
    "len (data.loc[data ['floors'] > 2, 'id'])\n"
   ]
  },
  {
   "cell_type": "code",
   "execution_count": 19,
   "id": "68a54230",
   "metadata": {},
   "outputs": [
    {
     "data": {
      "text/plain": [
       "163"
      ]
     },
     "execution_count": 19,
     "metadata": {},
     "output_type": "execute_result"
    }
   ],
   "source": [
    "#13-How many houses have a sea view?\n",
    "len( data.loc[data['waterfront'] == 1, 'id'])"
   ]
  },
  {
   "cell_type": "code",
   "execution_count": 23,
   "id": "40890023",
   "metadata": {},
   "outputs": [
    {
     "data": {
      "text/plain": [
       "64"
      ]
     },
     "execution_count": 23,
     "metadata": {},
     "output_type": "execute_result"
    }
   ],
   "source": [
    "#14-Of the houses with a sea view, how many have 3 bedrooms?\n",
    "len ( data.loc[( data['bedrooms'] == 3) & (data['waterfront'] == 1), 'id'])"
   ]
  },
  {
   "cell_type": "code",
   "execution_count": null,
   "id": "78d6f6d2",
   "metadata": {},
   "outputs": [],
   "source": [
    "#15-Of the houses with more than 300 square meters of living room, how many have more than 2 bathrooms?"
   ]
  },
  {
   "cell_type": "code",
   "execution_count": 24,
   "id": "69600665",
   "metadata": {},
   "outputs": [
    {
     "data": {
      "text/plain": [
       "2201"
      ]
     },
     "execution_count": 24,
     "metadata": {},
     "output_type": "execute_result"
    }
   ],
   "source": [
    "len ( data.loc[( data ['m2'] > 300 ) & (data[ 'bathrooms'] > 2), 'id'])"
   ]
  },
  {
   "cell_type": "markdown",
   "id": "70f39521",
   "metadata": {},
   "source": [
    "1-\tHow many properties are available to buy? | 21613\n",
    "2-\tHow many characteristics do the properties possess? | 19\n",
    "3-\tWhich are those characteristics? (Number of bedrooms, number of garages, m², site, etc.). | 'price', 'bedrooms', 'bathrooms', 'sqft_living', 'sqft_lot', 'floors', 'waterfront', 'view', 'condition', 'grade', 'sqft_above', 'sqft_basement', 'yr_built', 'yr_renovated', 'zipcode', 'lat', 'long', 'sqft_living15', 'sqft_lot15'\n",
    "4-\t Which is the most expansive property? (The property with the bigger price)| 6762700020\n",
    "5-\tWhich is the property with the bigger number of bedrooms? | 2402100895 \n",
    "6-\tWhat is the total of bedrooms in the dataset? | 72854\n",
    "7-\tHow many houses have two bathrooms? |1930\n",
    "8-\tWhat is the average price of all houses in the dataset? | 540088,14\n",
    "9-\tWhat is the average price of homes with two bathrooms? | 457889.72\n",
    "10-\tWhat is the minimum price for a 3 bedrooms house? | 82000.0\n",
    "11-\tHow many houses have more than 300 square meters of living room? | 2258\n",
    "12-\tHow many houses have more than 2 floors? | 782\n",
    "13-\tHow many houses have a sea view? | 163\n",
    "14-\tOf the houses with a sea view, how many have 3 bedrooms? | 64\n",
    "15-\tOf the houses with more than 300 square meters of living room, how many have more than 2 bathrooms? | 2201\n"
   ]
  }
 ],
 "metadata": {
  "kernelspec": {
   "display_name": "Python 3 (ipykernel)",
   "language": "python",
   "name": "python3"
  },
  "language_info": {
   "codemirror_mode": {
    "name": "ipython",
    "version": 3
   },
   "file_extension": ".py",
   "mimetype": "text/x-python",
   "name": "python",
   "nbconvert_exporter": "python",
   "pygments_lexer": "ipython3",
   "version": "3.9.12"
  }
 },
 "nbformat": 4,
 "nbformat_minor": 5
}
